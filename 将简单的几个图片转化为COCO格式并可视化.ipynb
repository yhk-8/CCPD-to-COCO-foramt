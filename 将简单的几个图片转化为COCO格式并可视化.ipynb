{
  "nbformat": 4,
  "nbformat_minor": 0,
  "metadata": {
    "colab": {
      "name": "注册数据集.ipynb",
      "provenance": [],
      "collapsed_sections": [],
      "mount_file_id": "1BtPe1qSVxxZsk7BCV357-ASfqgmOGnfO",
      "authorship_tag": "ABX9TyNSR7a2WjbFEzl/CqekG9yK",
      "include_colab_link": true
    },
    "kernelspec": {
      "name": "python3",
      "display_name": "Python 3"
    },
    "language_info": {
      "name": "python"
    },
    "accelerator": "GPU"
  },
  "cells": [
    {
      "cell_type": "markdown",
      "metadata": {
        "id": "view-in-github",
        "colab_type": "text"
      },
      "source": [
        "<a href=\"https://colab.research.google.com/github/yhk-8/CCPD-dataset/blob/main/%E5%B0%86%E7%AE%80%E5%8D%95%E7%9A%84%E5%87%A0%E4%B8%AA%E5%9B%BE%E7%89%87%E8%BD%AC%E5%8C%96%E4%B8%BACOCO%E6%A0%BC%E5%BC%8F%E5%B9%B6%E5%8F%AF%E8%A7%86%E5%8C%96.ipynb\" target=\"_parent\"><img src=\"https://colab.research.google.com/assets/colab-badge.svg\" alt=\"Open In Colab\"/></a>"
      ]
    },
    {
      "cell_type": "code",
      "metadata": {
        "id": "yo3UHfZ1vH5y"
      },
      "source": [
        "#加载代码\n",
        "!git clone https://github.com/weidafeng/CCPD2COCO.git"
      ],
      "execution_count": null,
      "outputs": []
    },
    {
      "cell_type": "code",
      "metadata": {
        "id": "HLFrViAN-kZz"
      },
      "source": [
        "#运行程序,转化格式 记得改一下代码！！！！ +1\n",
        "!python /content/CCPD2COCO/ccpd_to_coco.py --data /content/CCPD2COCO/data \n",
        "!python /content/CCPD2COCO/make_seg_mask.py \n"
      ],
      "execution_count": null,
      "outputs": []
    },
    {
      "cell_type": "code",
      "metadata": {
        "id": "9_FzH13EjseR"
      },
      "source": [
        "# install dependencies: (use cu100 because colab is on CUDA 10.0)\n",
        "!pip install -U torch==1.4+cu100 torchvision==0.5+cu100 -f https://download.pytorch.org/whl/torch_stable.html \n",
        "!pip install cython pyyaml==5.1\n",
        "!pip install -U 'git+https://github.com/cocodataset/cocoapi.git#subdirectory=PythonAPI'\n",
        "import torch, torchvision\n",
        "torch.__version__\n",
        "!gcc --version\n",
        "# opencv is pre-installed on colab\n",
        "# install detectron2:\n",
        "!pip install detectron2 -f https://dl.fbaipublicfiles.com/detectron2/wheels/cu100/index.html"
      ],
      "execution_count": null,
      "outputs": []
    },
    {
      "cell_type": "code",
      "metadata": {
        "id": "jY_B2GV4eH9p"
      },
      "source": [
        "# You may need to restart your runtime prior to this, to let your installation take effect\n",
        "# Some basic setup\n",
        "# Setup detectron2 logger\n",
        "import detectron2\n",
        "from detectron2.utils.logger import setup_logger\n",
        "setup_logger()\n",
        "\n",
        "# import some common libraries\n",
        "import matplotlib.pyplot as plt\n",
        "import numpy as np\n",
        "import cv2\n",
        "from google.colab.patches import cv2_imshow\n",
        "\n",
        "# import some common detectron2 utilities\n",
        "from detectron2.engine import DefaultPredictor\n",
        "from detectron2.config import get_cfg\n",
        "from detectron2.utils.visualizer import Visualizer\n",
        "from detectron2.data import MetadataCatalog, DatasetCatalog\n"
      ],
      "execution_count": 7,
      "outputs": []
    },
    {
      "cell_type": "code",
      "metadata": {
        "id": "VOmsaZhBdlLa"
      },
      "source": [
        "#注册数据集\n",
        "from detectron2.data.datasets import register_coco_instances\n",
        "\n",
        "register_coco_instances('self_coco_train', {}, \n",
        "                        '/content/ccpd_annotations.json', #JSON文件路径\n",
        "                       '/')#图片路径\n",
        "#/content/map"
      ],
      "execution_count": 53,
      "outputs": []
    },
    {
      "cell_type": "code",
      "metadata": {
        "id": "gif7JcQnbkHu"
      },
      "source": [
        "import cv2\n",
        "import random\n",
        "import json, os\n",
        "from pycocotools.coco import COCO\n",
        "from skimage import io\n",
        "from matplotlib import pyplot as plt\n",
        "\n",
        "train_json = '/content/ccpd_annotations.json'\n",
        "train_path = '/content/CCPD2COCO/data/'\n",
        "\n",
        "def visualization_bbox_seg(num_image, json_path, img_path, *str):# 需要画图的是第num副图片， 对应的json路径和图片路径\n",
        "\n",
        "    coco = COCO(json_path)\n",
        "\n",
        "    if len(str) == 0:\n",
        "        catIds = []\n",
        "    else:\n",
        "        catIds = coco.getCatIds(catNms = [str[0]])  # 获取给定类别对应的id 的dict（单个内嵌字典的类别[{}]）\n",
        "        catIds = coco.loadCats(catIds)[0]['id'] # 获取给定类别对应的id 的dict中的具体id\n",
        "\n",
        "    list_imgIds = coco.getImgIds(catIds=catIds ) # 获取含有该给定类别的所有图片的id\n",
        "    img = coco.loadImgs(list_imgIds[num_image-1])[0]  # 获取满足上述要求，并给定显示第num幅image对应的dict\n",
        "    image = io.imread(img_path + img['file_name'])  # 读取图像\n",
        "    image_name =  img['file_name'] # 读取图像名字\n",
        "    image_id = img['id'] # 读取图像id\n",
        "\n",
        "    img_annIds = coco.getAnnIds(imgIds=img['id'], catIds=catIds, iscrowd=None) # 读取这张图片的所有seg_id\n",
        "    img_anns = coco.loadAnns(img_annIds)\n",
        "\n",
        "    for i in range(len(img_annIds)):\n",
        "        x, y, w, h = img_anns[i-1]['bbox']  # 读取边框\n",
        "        image = cv2.rectangle(image, (int(x), int(y)), (int(x + w), int(y + h)), (0, 255, 255), 2)\n",
        "\n",
        "    plt.rcParams['figure.figsize'] = (20.0, 20.0)\n",
        "    plt.imshow(image)\n",
        "    coco.showAnns(img_anns)\n",
        "    plt.show()\n",
        "\n",
        "\n",
        "visualization_bbox_seg(5, train_json, train_path) # 最后一个参数不写就是画出一张图中的所有类别\n"
      ],
      "execution_count": null,
      "outputs": []
    }
  ]
}